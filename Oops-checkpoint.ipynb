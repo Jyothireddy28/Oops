{
 "cells": [
  {
   "cell_type": "code",
   "execution_count": 1,
   "id": "a140eba8-2e5d-4d51-9220-3489b2a7c27c",
   "metadata": {},
   "outputs": [
    {
     "name": "stdin",
     "output_type": "stream",
     "text": [
      "enter the name: raju\n",
      "enter the age: 21\n",
      "enter sex: male\n",
      "enter ward_no: 101\n",
      "enter the bed_no: a\n",
      "enter chrges_per_day: 1000\n",
      "enter no_of_days_admitted: 5\n"
     ]
    },
    {
     "name": "stdout",
     "output_type": "stream",
     "text": [
      "name is raju age is21sex ismale\n",
      "and wrad.no is101 bed_no isa charges1000\n",
      "no.of.days.admitted5\n"
     ]
    }
   ],
   "source": [
    "class Patient:\n",
    "    def setPatient(self):\n",
    "        self.name=input(\"enter the name:\")\n",
    "        self.age=input(\"enter the age:\")\n",
    "        self.sex=input(\"enter sex:\")\n",
    "    def getPatient(self):\n",
    "        return \"name is\"+\" \"+self.name+\" \"+\"age is\"+self.age+\"sex is\"+self.sex\n",
    "class IPD:\n",
    "    def setIPD(self):\n",
    "        self.ward_no=input(\"enter ward_no:\")\n",
    "        self.bed_no=input(\"enter the bed_no:\")\n",
    "        self.charges=input(\"enter chrges_per_day:\")\n",
    "    def getIPD(self):\n",
    "        return \"and wrad.no is\"+self.ward_no+\" \"+\"bed_no is\"+self.bed_no+\" \"+\"charges\"+self.charges\n",
    "class IPD_Patient(Patient,IPD):\n",
    "    def setIPD_Patient(self):\n",
    "        self.days=input(\"enter no_of_days_admitted:\")\n",
    "    def getIPD_Patient(self):\n",
    "        return\"no.of.days.admitted\"+self.days\n",
    "c=IPD_Patient()\n",
    "c.setPatient()\n",
    "c.setIPD()\n",
    "c.setIPD_Patient()\n",
    "print(c.getPatient())\n",
    "print(c.getIPD())\n",
    "print(c.getIPD_Patient())"
   ]
  },
  {
   "cell_type": "code",
   "execution_count": 4,
   "id": "f7bfc9d5-a11c-4dcd-8b77-319b14510185",
   "metadata": {},
   "outputs": [
    {
     "name": "stdin",
     "output_type": "stream",
     "text": [
      "How many marks?  79\n",
      "Enter department name:  ece\n",
      "Enter HOD name:  penchalaiah\n",
      "Enter student name:  raju\n",
      "Enter student ID:  419\n",
      "Enter marks:  76\n"
     ]
    },
    {
     "name": "stdout",
     "output_type": "stream",
     "text": [
      "ece with penchalaiah\n",
      "raju with 419\n",
      "76\n"
     ]
    }
   ],
   "source": [
    "###### class Lecturer:\n",
    "    def setLecturer(self):\n",
    "        self.name = input(\"Enter name: \")\n",
    "        self.qualification = input(\"Enter qualification: \")\n",
    "\n",
    "    def getLecturer(self):\n",
    "        return self.name + \" is with \" + self.qualification\n",
    "\n",
    "\n",
    "class Department(Lecturer):\n",
    "    def setDepartment(self):\n",
    "        self.dname = input(\"Enter department name: \")\n",
    "        self.hod = input(\"Enter HOD name: \")\n",
    "\n",
    "    def getDepartment(self):\n",
    "        return self.dname + \" with \" + self.hod\n",
    "\n",
    "\n",
    "class Student(Department):\n",
    "    def setStudent(self):\n",
    "        self.sname = input(\"Enter student name: \")\n",
    "        self.sid = input(\"Enter student ID: \")\n",
    "\n",
    "    def getStudent(self):\n",
    "        return self.sname + \" with \" + self.sid\n",
    "\n",
    "\n",
    "class Marks(Student):\n",
    "    def setMarks(self):\n",
    "        self.marks = int(input(\"Enter marks: \"))\n",
    "\n",
    "    def getMarks(self):\n",
    "        return str(self.marks)\n",
    "\n",
    "\n",
    "# Main code\n",
    "marks = int(input(\"How many marks? \"))\n",
    "if marks == 75:\n",
    "    sob = Student()\n",
    "    sob.setDepartment()\n",
    "    sob.setStudent()\n",
    "    print(sob.getDepartment())\n",
    "    print(sob.getStudent())\n",
    "elif marks > 75:\n",
    "    mob = Marks()\n",
    "    mob.setDepartment()\n",
    "    mob.setStudent()\n",
    "    mob.setMarks()\n",
    "    print(mob.getDepartment())\n",
    "    print(mob.getStudent())\n",
    "    print(mob.getMarks())"
   ]
  },
  {
   "cell_type": "code",
   "execution_count": 7,
   "id": "78385a90-d793-4d2a-8f43-6d2fbf9489cb",
   "metadata": {},
   "outputs": [
    {
     "name": "stdout",
     "output_type": "stream",
     "text": [
      "1. Student\n",
      "2. Employee\n"
     ]
    },
    {
     "name": "stdin",
     "output_type": "stream",
     "text": [
      "Enter choice [1, 2]:  1\n",
      "Enter house number:  212\n",
      "Enter city:  nellore\n",
      "Enter Roll Number:  419\n",
      "Enter Student Name:  jyothi\n"
     ]
    },
    {
     "name": "stdout",
     "output_type": "stream",
     "text": [
      "jyothi roll number is 419\n",
      "and staying at House Number 212 in nellore\n"
     ]
    }
   ],
   "source": [
    "class Address:\n",
    "    def setAddress(self):\n",
    "        self.hno = input(\"Enter house number: \")\n",
    "        self.city = input(\"Enter city: \")\n",
    "\n",
    "    def getAddress(self):\n",
    "        return \"and staying at House Number \" + self.hno + \" in \" + self.city\n",
    "\n",
    "\n",
    "class Student(Address):\n",
    "    def setStudent(self):\n",
    "        self.rollno = input(\"Enter Roll Number: \")\n",
    "        self.sname = input(\"Enter Student Name: \")\n",
    "\n",
    "    def getStudent(self):\n",
    "        return self.sname + \" roll number is \" + self.rollno\n",
    "\n",
    "\n",
    "class Employee(Address):\n",
    "    def setEmployee(self):\n",
    "        self.ename = input(\"Enter Employee Name: \")\n",
    "        self.job = input(\"Enter Employee Job: \")\n",
    "\n",
    "    def getEmployee(self):\n",
    "        return self.ename + \" working as \" + self.job\n",
    "\n",
    "\n",
    "# Main Program\n",
    "print(\"1. Student\\n2. Employee\")\n",
    "ch = int(input(\"Enter choice [1, 2]: \"))\n",
    "\n",
    "if ch == 1:\n",
    "    sob = Student()\n",
    "    sob.setAddress()\n",
    "    sob.setStudent()\n",
    "    print(sob.getStudent())\n",
    "    print(sob.getAddress())\n",
    "elif ch == 2:\n",
    "    eob = Employee()\n",
    "    eob.setAddress()\n",
    "    eob.setEmployee()\n",
    "    print(eob.getEmployee())\n",
    "    print(eob.getAddress())\n",
    "else:\n",
    "    print(\"Invalid choice!\")"
   ]
  },
  {
   "cell_type": "code",
   "execution_count": 4,
   "id": "8013e077-6d8e-47ea-b6dc-d040a19db9d0",
   "metadata": {},
   "outputs": [
    {
     "ename": "IndentationError",
     "evalue": "unexpected indent (2633486706.py, line 2)",
     "output_type": "error",
     "traceback": [
      "\u001b[1;36m  Cell \u001b[1;32mIn[4], line 2\u001b[1;36m\u001b[0m\n\u001b[1;33m    library.add_book(book1)\u001b[0m\n\u001b[1;37m    ^\u001b[0m\n\u001b[1;31mIndentationError\u001b[0m\u001b[1;31m:\u001b[0m unexpected indent\n"
     ]
    }
   ],
   "source": []
  },
  {
   "cell_type": "code",
   "execution_count": 5,
   "id": "a81a8e00-d6e9-4164-be88-265b5e96c713",
   "metadata": {},
   "outputs": [
    {
     "name": "stdout",
     "output_type": "stream",
     "text": [
      "kiran's marks:\n",
      "maths:85\n",
      "science:90\n",
      "satish's marks:\n",
      "maths:78\n",
      "science:88\n",
      "ajay's marks:\n",
      "maths:92\n",
      "science:85\n"
     ]
    }
   ],
   "source": [
    "students=[\"kiran\",\"satish\",\"ajay\"]\n",
    "student_marks={\n",
    "       \"kiran\":{\"maths\":85,\"science\":90},\n",
    "       \"satish\":{\"maths\":78,\"science\":88},\n",
    "       \"ajay\":{\"maths\":92,\"science\":85}\n",
    "}\n",
    "for student in students:\n",
    "    print(f\"{student}'s marks:\")\n",
    "    for subject,marks in student_marks[student].items():\n",
    "        print(f\"{subject}:{marks}\")\n"
   ]
  },
  {
   "cell_type": "code",
   "execution_count": 6,
   "id": "b7e4f16b-8eab-4e60-ae3a-88b902a3d123",
   "metadata": {},
   "outputs": [
    {
     "name": "stdin",
     "output_type": "stream",
     "text": [
      "enter name jyothi\n",
      "enter a value 30\n",
      "enter a value 40\n",
      "enter a value 50\n",
      "do you want to continue(yes/no): no\n"
     ]
    },
    {
     "name": "stdout",
     "output_type": "stream",
     "text": [
      "studentname:jyothi marks1:30 marks2:40 marks3:50 total:120\n"
     ]
    }
   ],
   "source": [
    "class school:\n",
    "      def setschool(self):\n",
    "          self.name=input(\"enter name\")\n",
    "          self.marks1=int(input(\"enter a value\"))\n",
    "          self.marks2=int(input(\"enter a value\"))\n",
    "          self.marks3=int(input(\"enter a value\"))\n",
    "          self.total=self.marks1+self.marks2+self.marks3\n",
    "      def getschool(self):\n",
    "          return \"studentname:\"+self.name+\" \"+\"marks1:\"+str(self.marks1)+\" \"+\"marks2:\"+str(self.marks2)+\" \"+\"marks3:\"+str(self.marks3)+\" \"+\"total:\"+str(self.total)\n",
    "s=[]\n",
    "while True:\n",
    "      c=school()\n",
    "      c.setschool()\n",
    "      s.append(c)\n",
    "      choice=input(\"do you want to continue(yes/no):\")\n",
    "      if choice=='no':\n",
    "         break\n",
    "for c in s:\n",
    "    print(c.getschool())"
   ]
  },
  {
   "cell_type": "code",
   "execution_count": 7,
   "id": "0cc4e87c-e7f6-46ab-bdbb-6b164f4e844a",
   "metadata": {},
   "outputs": [
    {
     "name": "stdin",
     "output_type": "stream",
     "text": [
      "enter a name jyothi\n",
      "enter a value 30\n",
      "enter a value 40\n",
      "enter a value 50\n",
      "Do you want to continue(yes/no): no\n"
     ]
    },
    {
     "name": "stdout",
     "output_type": "stream",
     "text": [
      "studentname:jyothi mark1:30 mark2:40 mark3:50 total120\n"
     ]
    }
   ],
   "source": [
    "l=[]\n",
    "while True:\n",
    "      s=input(\"enter a name\")\n",
    "      m1=int(input(\"enter a value\"))\n",
    "      m2=int(input(\"enter a value\"))\n",
    "      m3=int(input(\"enter a value\"))\n",
    "      total=m1+m2+m3\n",
    "      c=\"studentname:\"+s+\" \"+\"mark1:\"+str(m1)+\" \"+\"mark2:\"+str(m2)+\" \"+\"mark3:\"+str(m3)+\" \"+\"total\"+str(total)\n",
    "      l.append(c)\n",
    "      choice=input(\"Do you want to continue(yes/no):\")\n",
    "      if choice=='no':\n",
    "         break\n",
    "for i in l:\n",
    "    print(i)"
   ]
  },
  {
   "cell_type": "code",
   "execution_count": 8,
   "id": "12daa6c2-be72-4c36-87ad-acff505084c7",
   "metadata": {},
   "outputs": [
    {
     "name": "stdin",
     "output_type": "stream",
     "text": [
      "value for n 20\n"
     ]
    },
    {
     "name": "stdout",
     "output_type": "stream",
     "text": [
      "['20', '02']\n"
     ]
    }
   ],
   "source": [
    "def digit_pair(n):\n",
    "    d=str(n)\n",
    "    a=[]\n",
    "    for i in range(len(d)):\n",
    "        for j in range(i+1,len(d)):\n",
    "            a.append(d[i]+d[j])\n",
    "            a.append(d[j]+d[i])\n",
    "    return a\n",
    "n=int(input(\"value for n\"))\n",
    "m=digit_pair(n)\n",
    "print(m)"
   ]
  },
  {
   "cell_type": "code",
   "execution_count": 9,
   "id": "fc9655a5-43a2-4eab-a95f-014b38d2db31",
   "metadata": {},
   "outputs": [
    {
     "name": "stdin",
     "output_type": "stream",
     "text": [
      "enter name jyothi\n",
      "enter income 20000\n",
      "enter loanamount 5000\n"
     ]
    },
    {
     "name": "stdout",
     "output_type": "stream",
     "text": [
      "NetBalance is 15000\n"
     ]
    },
    {
     "name": "stdin",
     "output_type": "stream",
     "text": [
      "enter name sandhya\n",
      "enter income 15000\n",
      "enter rentamount 5000\n"
     ]
    },
    {
     "name": "stdout",
     "output_type": "stream",
     "text": [
      "NetBalance is 10000\n"
     ]
    }
   ],
   "source": [
    "class Houseplan:\n",
    "      def House_maintain(self,income,rent=0,loan_amt=0):\n",
    "          return income-rent-loan_amt\n",
    "rent,lamt=0,0\n",
    "ob=Houseplan()\n",
    "name=input(\"enter name\") \n",
    "inc=int(input(\"enter income\"))\n",
    "#Htype=input(\"Own House or Rent House[O/R]\")\n",
    "lamt=int(input(\"enter loanamount\"))\n",
    "print(\"NetBalance is\",ob.House_maintain(inc,rent,lamt))\n",
    "name=input(\"enter name\")\n",
    "inc=int(input(\"enter income\"))\n",
    "#Htype=input(\"Own House or Rent House [O/R]\")\n",
    "ramt=int(input(\"enter rentamount\"))\n",
    "print(\"NetBalance is\",ob.House_maintain(inc,rent,ramt))"
   ]
  },
  {
   "cell_type": "code",
   "execution_count": 10,
   "id": "7926380d-4239-4c57-ac2f-a65f0f0d6261",
   "metadata": {},
   "outputs": [
    {
     "name": "stdin",
     "output_type": "stream",
     "text": [
      "value for n1 2\n",
      "value for n2 3\n",
      "value for n3 4\n",
      "value for n4 5\n"
     ]
    },
    {
     "name": "stdout",
     "output_type": "stream",
     "text": [
      "1152921504606846976\n"
     ]
    }
   ],
   "source": [
    "class Sample:\n",
    "      def setdigits(self):\n",
    "          self.n1=int(input(\"value for n1\"))\n",
    "          self.n2=int(input(\"value for n2\"))\n",
    "          self.n3=int(input(\"value for n3\"))\n",
    "          self.n4=int(input(\"value for n4\"))\n",
    "      def getResult(self):\n",
    "          return(pow(pow(pow(self.n1,self.n2),self.n3),self.n4))\n",
    "          \n",
    "ob1=Sample()\n",
    "ob1.setdigits()\n",
    "print(ob1.getResult())"
   ]
  },
  {
   "cell_type": "code",
   "execution_count": 14,
   "id": "73e3d3ff-16ad-4c28-bd2e-b62d38f3759d",
   "metadata": {},
   "outputs": [
    {
     "name": "stdin",
     "output_type": "stream",
     "text": [
      "enter name: jyothi\n",
      "enter income: 10000\n",
      "own or rented house [o/r]: o\n",
      "enter loan amt: 2000\n",
      "enter name: sandhya\n",
      "enter income 10000\n",
      "own or rent [o/r]: r\n",
      "enter rent: 1000\n"
     ]
    },
    {
     "name": "stdout",
     "output_type": "stream",
     "text": [
      "[('jyothi', 10000, 2000, 'net balance is', 8000), ('net balance is:', 9000)]\n"
     ]
    }
   ],
   "source": [
    "class Houseplan:\n",
    "    def House_maintain(self,income,rent=0,loan_amt=0):\n",
    "        return income-rent-loan_amt\n",
    "d=[]\n",
    "rent,lamt=0,0\n",
    "ob=Houseplan()\n",
    "name=input(\"enter name:\")\n",
    "income=int(input(\"enter income:\"))\n",
    "housetype=input(\"own or rented house [o/r]:\")\n",
    "lamt=int(input(\"enter loan amt:\"))\n",
    "c=name,income,lamt,\"net balance is\",ob.House_maintain(income,rent,lamt)\n",
    "d.append(c)\n",
    "name=input(\"enter name:\")\n",
    "income=int(input(\"enter income\"))\n",
    "housetype=input(\"own or rent [o/r]:\")\n",
    "ramt=int(input(\"enter rent:\"))\n",
    "e=\"net balance is:\",ob.House_maintain(income,rent,ramt)\n",
    "d.append(e)\n",
    "print(d)"
   ]
  },
  {
   "cell_type": "code",
   "execution_count": 16,
   "id": "733bbda7-8c12-466e-bd65-4c3a66acaed3",
   "metadata": {},
   "outputs": [
    {
     "name": "stdin",
     "output_type": "stream",
     "text": [
      "How many years:  5\n"
     ]
    }
   ],
   "source": [
    "# Hirerichal Inheritance\n",
    "class Staff:\n",
    "    def setStaff(self):\n",
    "        self.name = input(\"enter name: \")\n",
    "    def getStaff(self):\n",
    "        return self.name\n",
    "\n",
    "class Teacher(Staff):\n",
    "    def setTeacher(self):\n",
    "        self.subject = input(\"enter subject name: \")\n",
    "        self.phno = input(\"enter phone number: \")\n",
    "    def getTeacher(self):\n",
    "        return self.subject + \" \" + self.phno\n",
    "\n",
    "class Typist(Staff):\n",
    "    def setTypist(self):\n",
    "        self.speed = input(\"enter speed: \")\n",
    "    def getTypist(self):\n",
    "        return self.speed\n",
    "\n",
    "class Officer(Staff):\n",
    "    def setOfficer(self):\n",
    "        self.grade = input(\"enter grade: \")\n",
    "    def getOfficer(self):\n",
    "        return self.grade\n",
    "\n",
    "class Daily(Typist):\n",
    "    def setDaily(self):\n",
    "        self.wages = input(\"enter wages: \")\n",
    "    def getDaily(self):\n",
    "        return self.wages\n",
    "\n",
    "class Monthly(Typist):\n",
    "    def setMonthly(self):\n",
    "        self.sal = input(\"enter salary: \")\n",
    "    def getMonthly(self):\n",
    "        return self.sal\n",
    "\n",
    "t = int(input(\"How many years: \"))  # Convert to an integer for comparison\n",
    "\n",
    "if t == 1:\n",
    "    c = Daily()\n",
    "    c.setStaff()\n",
    "    c.setTypist()\n",
    "    c.setDaily()\n",
    "    print(c.getStaff())\n",
    "    print(c.getTypist())\n",
    "    print(c.getDaily())\n",
    "elif t == 2:\n",
    "    c = Monthly()\n",
    "    c.setStaff()\n",
    "    c.setTypist()\n",
    "    c.setMonthly()  # Fixed the typo here\n",
    "    print(c.getStaff())\n",
    "    print(c.getTypist())\n",
    "    print(c.getMonthly())  # Fixed the typo here\n"
   ]
  },
  {
   "cell_type": "code",
   "execution_count": 17,
   "id": "aa8d8f46-7dac-465c-a40e-da89efd4ab2a",
   "metadata": {},
   "outputs": [
    {
     "name": "stdin",
     "output_type": "stream",
     "text": [
      "Enter title:  java\n",
      "Enter author name:  robin\n",
      "Enter ISBN:  201\n",
      "Enter status (available/borrowed):  available\n",
      "Enter name:  uday\n",
      "Enter ID:  419\n",
      "Enter email:  uday@gmail\n"
     ]
    },
    {
     "name": "stdout",
     "output_type": "stream",
     "text": [
      "\n",
      "Book Details:\n",
      "Title:java\n",
      "Author Name:robin\n",
      "ISBN:201\n",
      "Status:available\n",
      "\n",
      "Member Details:\n"
     ]
    },
    {
     "ename": "AttributeError",
     "evalue": "'Member' object has no attribute 'borrowed_book'",
     "output_type": "error",
     "traceback": [
      "\u001b[1;31m---------------------------------------------------------------------------\u001b[0m",
      "\u001b[1;31mAttributeError\u001b[0m                            Traceback (most recent call last)",
      "Cell \u001b[1;32mIn[17], line 43\u001b[0m\n\u001b[0;32m     41\u001b[0m \u001b[38;5;28mprint\u001b[39m(book1\u001b[38;5;241m.\u001b[39mgetBook())\n\u001b[0;32m     42\u001b[0m \u001b[38;5;28mprint\u001b[39m(\u001b[38;5;124m\"\u001b[39m\u001b[38;5;130;01m\\n\u001b[39;00m\u001b[38;5;124mMember Details:\u001b[39m\u001b[38;5;124m\"\u001b[39m)\n\u001b[1;32m---> 43\u001b[0m \u001b[38;5;28mprint\u001b[39m(member1\u001b[38;5;241m.\u001b[39mgetMember())\n\u001b[0;32m     44\u001b[0m member1\u001b[38;5;241m.\u001b[39mborrow_book(book1)\n\u001b[0;32m     45\u001b[0m \u001b[38;5;28mprint\u001b[39m(\u001b[38;5;124m\"\u001b[39m\u001b[38;5;130;01m\\n\u001b[39;00m\u001b[38;5;124mUpdated Member Details:\u001b[39m\u001b[38;5;124m\"\u001b[39m)\n",
      "Cell \u001b[1;32mIn[17], line 34\u001b[0m, in \u001b[0;36mMember.getMember\u001b[1;34m(self)\u001b[0m\n\u001b[0;32m     32\u001b[0m borrowed_books_titles \u001b[38;5;241m=\u001b[39m [book\u001b[38;5;241m.\u001b[39mtitle \u001b[38;5;28;01mfor\u001b[39;00m book \u001b[38;5;129;01min\u001b[39;00m \u001b[38;5;28mself\u001b[39m\u001b[38;5;241m.\u001b[39mborrowed_books]\n\u001b[0;32m     33\u001b[0m borrowed_books_str \u001b[38;5;241m=\u001b[39m \u001b[38;5;124m\"\u001b[39m\u001b[38;5;124m, \u001b[39m\u001b[38;5;124m\"\u001b[39m\u001b[38;5;241m.\u001b[39mjoin(borrowed_books_titles) \u001b[38;5;28;01mif\u001b[39;00m borrowed_books_titles \u001b[38;5;28;01melse\u001b[39;00m \u001b[38;5;124m\"\u001b[39m\u001b[38;5;124mNone\u001b[39m\u001b[38;5;124m\"\u001b[39m\n\u001b[1;32m---> 34\u001b[0m \u001b[38;5;28;01mreturn\u001b[39;00m \u001b[38;5;124m\"\u001b[39m\u001b[38;5;124mName:\u001b[39m\u001b[38;5;124m\"\u001b[39m\u001b[38;5;241m+\u001b[39m\u001b[38;5;28mself\u001b[39m\u001b[38;5;241m.\u001b[39mname\u001b[38;5;241m+\u001b[39m\u001b[38;5;124m\"\u001b[39m\u001b[38;5;130;01m\\n\u001b[39;00m\u001b[38;5;124m\"\u001b[39m\u001b[38;5;241m+\u001b[39m\u001b[38;5;124m\"\u001b[39m\u001b[38;5;124mMember_id\u001b[39m\u001b[38;5;124m\"\u001b[39m\u001b[38;5;241m+\u001b[39m\u001b[38;5;28mstr\u001b[39m(\u001b[38;5;28mself\u001b[39m\u001b[38;5;241m.\u001b[39mmember_id)\u001b[38;5;241m+\u001b[39m\u001b[38;5;124m\"\u001b[39m\u001b[38;5;130;01m\\n\u001b[39;00m\u001b[38;5;124m\"\u001b[39m\u001b[38;5;241m+\u001b[39m\u001b[38;5;124m\"\u001b[39m\u001b[38;5;124mEmail\u001b[39m\u001b[38;5;124m\"\u001b[39m\u001b[38;5;241m+\u001b[39m\u001b[38;5;28mself\u001b[39m\u001b[38;5;241m.\u001b[39memail\u001b[38;5;241m+\u001b[39m\u001b[38;5;124m\"\u001b[39m\u001b[38;5;130;01m\\n\u001b[39;00m\u001b[38;5;124m\"\u001b[39m\u001b[38;5;241m+\u001b[39m\u001b[38;5;124m\"\u001b[39m\u001b[38;5;124mBorrowed_books\u001b[39m\u001b[38;5;124m\"\u001b[39m\u001b[38;5;241m+\u001b[39m\u001b[38;5;28mself\u001b[39m\u001b[38;5;241m.\u001b[39mborrowed_book\n",
      "\u001b[1;31mAttributeError\u001b[0m: 'Member' object has no attribute 'borrowed_book'"
     ]
    }
   ],
   "source": [
    "# Example\n",
    "class Book:\n",
    "    def setBook(self):\n",
    "        self.title = input(\"Enter title: \")\n",
    "        self.author = input(\"Enter author name: \")\n",
    "        self.ISBN = int(input(\"Enter ISBN: \"))\n",
    "        self.status = input(\"Enter status (available/borrowed): \")\n",
    "\n",
    "    def getBook(self):\n",
    "       return \"Title:\"+self.title+\"\\n\"+\"Author Name:\"+self.author+\"\\n\"+\"ISBN:\"+str(self.ISBN)+\"\\n\"+\"Status:\"+self.status\n",
    "\n",
    "    def getStatus(self):\n",
    "        return self.status\n",
    "\n",
    "\n",
    "class Member:\n",
    "    def setMember(self):\n",
    "        self.name = input(\"Enter name: \")\n",
    "        self.member_id = int(input(\"Enter ID: \"))\n",
    "        self.email = input(\"Enter email: \")\n",
    "        self.borrowed_books = []\n",
    "\n",
    "    def borrow_book(self, book):\n",
    "        if book.getStatus() == \"available\":\n",
    "            book.status = \"borrowed\"\n",
    "            self.borrowed_books.append(book)\n",
    "            print(f\"Book '{book.title}' borrowed successfully!\")\n",
    "        else:\n",
    "            print(f\"Book '{book.title}' is already borrowed.\")\n",
    "\n",
    "    def getMember(self):\n",
    "        borrowed_books_titles = [book.title for book in self.borrowed_books]\n",
    "        borrowed_books_str = \", \".join(borrowed_books_titles) if borrowed_books_titles else \"None\"\n",
    "        return \"Name:\"+self.name+\"\\n\"+\"Member_id\"+str(self.member_id)+\"\\n\"+\"Email\"+self.email+\"\\n\"+\"Borrowed_books\"+self.borrowed_book\n",
    "\n",
    "book1 = Book()\n",
    "book1.setBook()\n",
    "member1 = Member()\n",
    "member1.setMember()\n",
    "print(\"\\nBook Details:\")\n",
    "print(book1.getBook())\n",
    "print(\"\\nMember Details:\")\n",
    "print(member1.getMember())\n",
    "member1.borrow_book(book1)\n",
    "print(\"\\nUpdated Member Details:\")\n",
    "print(member1.getMember())\n",
    "member1.borrow_book(book1)"
   ]
  },
  {
   "cell_type": "code",
   "execution_count": null,
   "id": "b87eaa95-52fb-4434-905e-cca28620fc01",
   "metadata": {},
   "outputs": [],
   "source": [
    "# Hirerichal Inheritance\n",
    "class Staff:\n",
    "    def setStaff(self):\n",
    "        self.name = input(\"enter name: \")\n",
    "    def getStaff(self):\n",
    "        return self.name\n",
    "\n",
    "class Teacher(Staff):\n",
    "    def setTeacher(self):\n",
    "        self.subject = input(\"enter subject name: \")\n",
    "        self.phno = input(\"enter phone number: \")\n",
    "    def getTeacher(self):\n",
    "        return self.subject + \" \" + self.phno\n",
    "\n",
    "class Typist(Staff):\n",
    "    def setTypist(self):\n",
    "        self.speed = input(\"enter speed: \")\n",
    "    def getTypist(self):\n",
    "        return self.speed\n",
    "\n",
    "class Officer(Staff):\n",
    "    def setOfficer(self):\n",
    "        self.grade = input(\"enter grade: \")\n",
    "    def getOfficer(self):\n",
    "        return self.grade\n",
    "\n",
    "class Daily(Typist):\n",
    "    def setDaily(self):\n",
    "        self.wages = input(\"enter wages: \")\n",
    "    def getDaily(self):\n",
    "        return self.wages\n",
    "\n",
    "class Monthly(Typist):\n",
    "    def setMonthly(self):\n",
    "        self.sal = input(\"enter salary: \")\n",
    "    def getMonthly(self):\n",
    "        return self.sal\n",
    "\n",
    "t = int(input(\"How many years: \"))  # Convert to an integer for comparison\n",
    "\n",
    "if t == 1:\n",
    "    c = Daily()\n",
    "    c.setStaff()\n",
    "    c.setTypist()\n",
    "    c.setDaily()\n",
    "    print(c.getStaff())\n",
    "    print(c.getTypist())\n",
    "    print(c.getDaily())\n",
    "elif t == 2:\n",
    "    c = Monthly()\n",
    "    c.setStaff()\n",
    "    c.setTypist()\n",
    "    c.setMonthly()  # Fixed the typo here\n",
    "    print(c.getStaff())\n",
    "    print(c.getTypist())\n",
    "    print(c.getMonthly())  # Fixed the typo here"
   ]
  }
 ],
 "metadata": {
  "kernelspec": {
   "display_name": "Python 3 (ipykernel)",
   "language": "python",
   "name": "python3"
  },
  "language_info": {
   "codemirror_mode": {
    "name": "ipython",
    "version": 3
   },
   "file_extension": ".py",
   "mimetype": "text/x-python",
   "name": "python",
   "nbconvert_exporter": "python",
   "pygments_lexer": "ipython3",
   "version": "3.12.7"
  }
 },
 "nbformat": 4,
 "nbformat_minor": 5
}
